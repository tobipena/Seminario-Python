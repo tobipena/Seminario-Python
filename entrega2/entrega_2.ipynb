{
 "cells": [
  {
   "cell_type": "markdown",
   "metadata": {},
   "source": [
    "# Entrega 2"
   ]
  },
  {
   "cell_type": "markdown",
   "metadata": {},
   "source": [
    "### se pretende resolver el siguiente enunciado\n",
    "Un club de hockey posee las estadísticas de todxs sus jugadorxs de la última\n",
    "temporada jugada del torneo de hockey mixto. Poseen una lista con los nombres, otra con los goles a favor, otra con los goles evitados y la última con las asistencias realizadas. El club está por otorgar los premios de cierre de temporada y necesita:\n",
    "1. Generar una estructura todas las estadísticas asociadas a cada jugador o jugadora.\n",
    "2. Conocer el nombre y la cantidad de goles del goleador o goleadora.\n",
    "3. Conocer el nombre del jugador o jugadora más influyente, esto se consigue sumando goles a favor, goles evitados y cantidad de asistencias. La particularidad es que los goles a favor, evitados y las asistencias NO valen lo mismo (es un promedio ponderado):\n",
    "    | | valor |\n",
    "    | ----------- | ----------- |\n",
    "    | goles a favor | 1.5 |\n",
    "    | goles evitados | 1.25 |\n",
    "    | asistencias | 1 |\n",
    "4. Conocer el promedio de goles por partido del equipo en general. Dato: Se jugaron 25 partidos en la temporada.\n",
    "5. Conocer el promedio de goles por partido del goleador o goleadora. Dato: Se\n",
    "jugaron 25 partidos en la temporada.\n"
   ]
  },
  {
   "cell_type": "code",
   "execution_count": 1,
   "metadata": {},
   "outputs": [],
   "source": [
    "#listas dadas por el enunciado\n",
    "names = \"\"\" Agustin, Yanina, Andrés, Ariadna, Bautista, CAROLINA,\n",
    "CESAR, David, Diego, Dolores, DYLAN, ELIANA, Emanuel, Fabián, Noelia,\n",
    "Francsica, FEDERICO, Fernanda, GONZALO, Nancy \"\"\"\n",
    "goals = [0, 10, 4, 0, 5, 14, 0, 0, 7, 2, 1, 1, 1, 5, 6, 1, 1, 2, 0, 11]\n",
    "goals_avoided = [0, 2, 0, 0, 5, 2, 0, 0, 1, 2, 0, 5, 5, 0, 1, 0, 2, 3, 0, 0]\n",
    "assists = [0, 5, 1, 0, 5, 2, 0, 0, 1, 2, 1, 5, 5, 0, 1, 0, 2, 3, 1, 0]"
   ]
  },
  {
   "cell_type": "markdown",
   "metadata": {},
   "source": [
    "### **Inciso 1**\n",
    "importo el modulo estructuras el cual se encarga de la construccion de las estructuras de datos para los distintos incisos"
   ]
  },
  {
   "cell_type": "code",
   "execution_count": 2,
   "metadata": {},
   "outputs": [],
   "source": [
    "import estructuras"
   ]
  },
  {
   "cell_type": "markdown",
   "metadata": {},
   "source": [
    "paso el string de nombres de los jugadores a una lista en la que cada posicion es uno de los nombres"
   ]
  },
  {
   "cell_type": "code",
   "execution_count": 3,
   "metadata": {},
   "outputs": [],
   "source": [
    "names_list=names.replace(',','').split()"
   ]
  },
  {
   "cell_type": "markdown",
   "metadata": {},
   "source": [
    "Y luego invoco a la funcion players_names_and_stats del modulo importado que recibe 4 listas por parametro y devuelve una estructura con todas las estadísticas asociadas a cada jugador o jugadora, lo que hace la funcion es iterar por cada una de las listas pasadas por parametro guardando los valores segun el orden brindado por el enunciado el cual dice que, las 4 estructuras están ordenadas de forma que los elementos en la misma posición corresponden a un mismo jugador o jugadora."
   ]
  },
  {
   "cell_type": "markdown",
   "metadata": {},
   "source": [
    "La funcion recibe cuatro parametros que serian de los tipos:\n",
    "- list[str]\n",
    "- list[int]\n",
    "- list[int]\n",
    "- list[int]"
   ]
  },
  {
   "cell_type": "markdown",
   "metadata": {},
   "source": [
    "Y devuelve una coleccion de tipo dict, por ejemplo:\n",
    "- si se le envia las siguientes listas: players_names_and_stats(['Tobias','Lucas'],[11,20],[0,5],[5,10])\n",
    "- la funcion retornaria un dict como el siguiente: {'Tobias':{'scored goals':11, 'prevented goals': 0, 'assists': 5}, 'Lucas':{'scored goals':20, 'prevented goals': 5, 'assists': 10}}"
   ]
  },
  {
   "cell_type": "code",
   "execution_count": 4,
   "metadata": {},
   "outputs": [
    {
     "name": "stdout",
     "output_type": "stream",
     "text": [
      "{'Agustin': {'scored goals': 0, 'prevented goals': 0, 'assists': 0}, 'Yanina': {'scored goals': 10, 'prevented goals': 2, 'assists': 5}, 'Andrés': {'scored goals': 4, 'prevented goals': 0, 'assists': 1}, 'Ariadna': {'scored goals': 0, 'prevented goals': 0, 'assists': 0}, 'Bautista': {'scored goals': 5, 'prevented goals': 5, 'assists': 5}, 'CAROLINA': {'scored goals': 14, 'prevented goals': 2, 'assists': 2}, 'CESAR': {'scored goals': 0, 'prevented goals': 0, 'assists': 0}, 'David': {'scored goals': 0, 'prevented goals': 0, 'assists': 0}, 'Diego': {'scored goals': 7, 'prevented goals': 1, 'assists': 1}, 'Dolores': {'scored goals': 2, 'prevented goals': 2, 'assists': 2}, 'DYLAN': {'scored goals': 1, 'prevented goals': 0, 'assists': 1}, 'ELIANA': {'scored goals': 1, 'prevented goals': 5, 'assists': 5}, 'Emanuel': {'scored goals': 1, 'prevented goals': 5, 'assists': 5}, 'Fabián': {'scored goals': 5, 'prevented goals': 0, 'assists': 0}, 'Noelia': {'scored goals': 6, 'prevented goals': 1, 'assists': 1}, 'Francsica': {'scored goals': 1, 'prevented goals': 0, 'assists': 0}, 'FEDERICO': {'scored goals': 1, 'prevented goals': 2, 'assists': 2}, 'Fernanda': {'scored goals': 2, 'prevented goals': 3, 'assists': 3}, 'GONZALO': {'scored goals': 0, 'prevented goals': 0, 'assists': 1}, 'Nancy': {'scored goals': 11, 'prevented goals': 0, 'assists': 0}}\n"
     ]
    }
   ],
   "source": [
    "players_stats=estructuras.players_names_and_stats(names_list,goals,goals_avoided,assists)\n",
    "print(players_stats)"
   ]
  },
  {
   "cell_type": "markdown",
   "metadata": {},
   "source": [
    "### **Inciso 2**\n",
    "Invoco a la funcion players_names_and_goals del modulo importado que recibe un dict por parametro y devuelve una estructura con el nombre y la cantidad de goles de todos los jugadores, lo que hace la funcion es iterar por el dict pasado por parametro guardando como clave del dict el nombre del jugador y como valor del mismo el de la estadistica necesaria, en este caso los goles."
   ]
  },
  {
   "cell_type": "markdown",
   "metadata": {},
   "source": [
    "La funcion recibe un solo parametro de tipo dict y devuelve una coleccion de tipo dict, por ejemplo:\n",
    "- si se le envia el siguiente dict: players_names_and_goals({'Tobias':{'scored goals':11, 'prevented goals': 0, 'assists': 5}, 'Lucas':{'scored goals':20, 'prevented goals': 5, 'assists': 10}})\n",
    "- la funcion retornaria un dict como el siguiente: {'Tobias': 11, 'Lucas': 20}"
   ]
  },
  {
   "cell_type": "code",
   "execution_count": 5,
   "metadata": {},
   "outputs": [
    {
     "name": "stdout",
     "output_type": "stream",
     "text": [
      "{'Agustin': 0, 'Yanina': 10, 'Andrés': 4, 'Ariadna': 0, 'Bautista': 5, 'CAROLINA': 14, 'CESAR': 0, 'David': 0, 'Diego': 7, 'Dolores': 2, 'DYLAN': 1, 'ELIANA': 1, 'Emanuel': 1, 'Fabián': 5, 'Noelia': 6, 'Francsica': 1, 'FEDERICO': 1, 'Fernanda': 2, 'GONZALO': 0, 'Nancy': 11}\n"
     ]
    }
   ],
   "source": [
    "players_goals=estructuras.players_names_and_goals(players_stats)\n",
    "print(players_goals)"
   ]
  },
  {
   "cell_type": "markdown",
   "metadata": {},
   "source": [
    "luego a esa estructura le aplico la funcion max() para conseguir el maximo goleador"
   ]
  },
  {
   "cell_type": "code",
   "execution_count": 14,
   "metadata": {},
   "outputs": [
    {
     "data": {
      "text/plain": [
       "tuple"
      ]
     },
     "execution_count": 14,
     "metadata": {},
     "output_type": "execute_result"
    }
   ],
   "source": [
    "top_scorer=max(players_goals.items(),key=lambda p: p[1])\n",
    "print(top_scorer)"
   ]
  },
  {
   "cell_type": "markdown",
   "metadata": {},
   "source": [
    "### Inciso 3\n",
    "Invoco a la funcion players_names_and_influence del modulo importado que recibe un dict por parametro y devuelve una estructura con el nombre y la influencia de todos los jugadores, lo que hace la funcion es iterar por el dict pasado por parametro guardando como clave del dict el nombre del jugador y como valor del mismo el calculo del promedio ponderado de sus estadisticas teniendo en cuenta el valor de cada una de ellas segun la tabla brindada en el enunciado."
   ]
  },
  {
   "cell_type": "markdown",
   "metadata": {},
   "source": [
    "La funcion recibe un solo parametro de tipo dict y devuelve una coleccion de tipo dict, por ejemplo:\n",
    "- si se le envia el siguiente dict: players_names_and_goals({'Tobias':{'scored goals':11, 'prevented goals': 0, 'assists': 5}, 'Lucas':{'scored goals':20, 'prevented goals': 5, 'assists': 10}})\n",
    "- la funcion retornaria un dict como el siguiente: {'Tobias': 7.16666667, 'Lucas': 15.4166667}"
   ]
  },
  {
   "cell_type": "code",
   "execution_count": 7,
   "metadata": {},
   "outputs": [
    {
     "name": "stdout",
     "output_type": "stream",
     "text": [
      "{'Agustin': 0.0, 'Yanina': 7.5, 'Andrés': 2.3333333333333335, 'Ariadna': 0.0, 'Bautista': 6.25, 'CAROLINA': 8.5, 'CESAR': 0.0, 'David': 0.0, 'Diego': 4.25, 'Dolores': 2.5, 'DYLAN': 0.8333333333333334, 'ELIANA': 4.25, 'Emanuel': 4.25, 'Fabián': 2.5, 'Noelia': 3.75, 'Francsica': 0.5, 'FEDERICO': 2.0, 'Fernanda': 3.25, 'GONZALO': 0.3333333333333333, 'Nancy': 5.5}\n"
     ]
    }
   ],
   "source": [
    "players_influence=estructuras.players_names_and_influence(players_stats)\n",
    "print(players_influence)"
   ]
  },
  {
   "cell_type": "markdown",
   "metadata": {},
   "source": [
    "luego a esa estructura le aplico la funcion max() para conseguir a el jugador mas influyente"
   ]
  },
  {
   "cell_type": "code",
   "execution_count": 8,
   "metadata": {},
   "outputs": [
    {
     "name": "stdout",
     "output_type": "stream",
     "text": [
      "('CAROLINA', 8.5)\n"
     ]
    }
   ],
   "source": [
    "most_influential_player=max(players_influence.items(),key=lambda p: p[1])\n",
    "print(most_influential_player)"
   ]
  },
  {
   "cell_type": "markdown",
   "metadata": {},
   "source": [
    "### Inciso 4\n",
    "Importo la funcion reduce para facilitar la suma de los goles del equipo y la utilizo con la variable players_goals en donde anteriormente se guardaron el nombre y la cantidad de goles de todos los jugadores."
   ]
  },
  {
   "cell_type": "markdown",
   "metadata": {},
   "source": [
    "La funcion reduce itera sobre la estructura dada en el segundo argumento tomando los datos y aplicandoles la funcion dada en el primer argumento. "
   ]
  },
  {
   "cell_type": "code",
   "execution_count": 12,
   "metadata": {},
   "outputs": [
    {
     "name": "stdout",
     "output_type": "stream",
     "text": [
      "71\n"
     ]
    }
   ],
   "source": [
    "from functools import reduce\n",
    "total_team_goals=reduce(lambda a, b: a+b, players_goals.values())\n",
    "print(total_team_goals)"
   ]
  },
  {
   "cell_type": "markdown",
   "metadata": {},
   "source": [
    "Despues divido la suma de los goles de todo el equipo por 25 que es la cantidad de partidos disputados en esta temporada"
   ]
  },
  {
   "cell_type": "code",
   "execution_count": 13,
   "metadata": {},
   "outputs": [
    {
     "name": "stdout",
     "output_type": "stream",
     "text": [
      "2.84\n"
     ]
    }
   ],
   "source": [
    "average_team_goals_per_game=total_team_goals/25\n",
    "print(average_team_goals_per_game)"
   ]
  },
  {
   "cell_type": "markdown",
   "metadata": {},
   "source": [
    "### Inciso 5\n",
    "Para calcular el promedio de goles por partido del maximo goleador del equipo utilizo la variable top_scorer la cual guarda en una tupla el nombre y la cantidad de goles del mayor goleador del equipo, con estos datos uso la cantidad de goles del maximo goleador y los divido por 25 que son la cantidad de partidos jugados en esta temporada"
   ]
  },
  {
   "cell_type": "code",
   "execution_count": 17,
   "metadata": {},
   "outputs": [
    {
     "name": "stdout",
     "output_type": "stream",
     "text": [
      "0.56\n"
     ]
    }
   ],
   "source": [
    "average_top_scorer_goals_per_game=top_scorer[1]/25\n",
    "print(average_top_scorer_goals_per_game)"
   ]
  }
 ],
 "metadata": {
  "kernelspec": {
   "display_name": "venv",
   "language": "python",
   "name": "python3"
  },
  "language_info": {
   "codemirror_mode": {
    "name": "ipython",
    "version": 3
   },
   "file_extension": ".py",
   "mimetype": "text/x-python",
   "name": "python",
   "nbconvert_exporter": "python",
   "pygments_lexer": "ipython3",
   "version": "3.11.7"
  }
 },
 "nbformat": 4,
 "nbformat_minor": 2
}
