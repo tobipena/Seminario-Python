{
 "cells": [
  {
   "cell_type": "markdown",
   "metadata": {},
   "source": [
    "# Entrega 2"
   ]
  },
  {
   "cell_type": "markdown",
   "metadata": {},
   "source": [
    "### se pretende resolver el siguiente enunciado\n",
    "Un club de hockey posee las estadísticas de todxs sus jugadorxs de la última\n",
    "temporada jugada del torneo de hockey mixto. Poseen una lista con los nombres, otra con los goles a favor, otra con los goles evitados y la última con las asistencias realizadas. El club está por otorgar los premios de cierre de temporada y necesita:\n",
    "1. Generar una estructura todas las estadísticas asociadas a cada jugador o jugadora.\n",
    "2. Conocer el nombre y la cantidad de goles del goleador o goleadora.\n",
    "3. Conocer el nombre del jugador o jugadora más influyente, esto se consigue sumando goles a favor, goles evitados y cantidad de asistencias. La particularidad es que los goles a favor, evitados y las asistencias NO valen lo mismo (es un promedio ponderado):\n",
    "    | | valor |\n",
    "    | ----------- | ----------- |\n",
    "    | goles a favor | 1.5 |\n",
    "    | goles evitados | 1.25 |\n",
    "    | asistencias | 1 |\n",
    "4. Conocer el promedio de goles por partido del equipo en general. Dato: Se jugaron 25 partidos en la temporada.\n",
    "5. Conocer el promedio de goles por partido del goleador o goleadora. Dato: Se\n",
    "jugaron 25 partidos en la temporada.\n"
   ]
  },
  {
   "cell_type": "code",
   "execution_count": 5,
   "metadata": {},
   "outputs": [],
   "source": [
    "#listas dadas por el enunciado\n",
    "names = \"\"\" Agustin, Yanina, Andrés, Ariadna, Bautista, CAROLINA,\n",
    "CESAR, David, Diego, Dolores, DYLAN, ELIANA, Emanuel, Fabián, Noelia,\n",
    "Francsica, FEDERICO, Fernanda, GONZALO, Nancy \"\"\"\n",
    "goals = [0, 10, 4, 0, 5, 14, 0, 0, 7, 2, 1, 1, 1, 5, 6, 1, 1, 2, 0, 11]\n",
    "goals_avoided = [0, 2, 0, 0, 5, 2, 0, 0, 1, 2, 0, 5, 5, 0, 1, 0, 2, 3, 0, 0]\n",
    "assists = [0, 5, 1, 0, 5, 2, 0, 0, 1, 2, 1, 5, 5, 0, 1, 0, 2, 3, 1, 0]"
   ]
  },
  {
   "cell_type": "markdown",
   "metadata": {},
   "source": [
    "importo el modulo estructuras el cual se encarga de la construccion de las estructuras de datos para los distintos incisos"
   ]
  },
  {
   "cell_type": "code",
   "execution_count": 6,
   "metadata": {},
   "outputs": [],
   "source": [
    "import estructuras"
   ]
  },
  {
   "cell_type": "markdown",
   "metadata": {},
   "source": [
    "paso el string de nombres de los jugadores a una lista en la que cada posicion es uno de los nombres"
   ]
  },
  {
   "cell_type": "code",
   "execution_count": 7,
   "metadata": {},
   "outputs": [],
   "source": [
    "names_list=names.replace(',','').split()"
   ]
  },
  {
   "cell_type": "markdown",
   "metadata": {},
   "source": [
    "Y luego invoco a la funcion inciso1 del modulo importado que devuelve una estructura con todas las estadísticas asociadas a cada jugador o jugadora"
   ]
  },
  {
   "cell_type": "code",
   "execution_count": 9,
   "metadata": {},
   "outputs": [
    {
     "name": "stdout",
     "output_type": "stream",
     "text": [
      "{'Agustin': {'Scored goals': 0, 'prevented goals': 0, 'assists': 0}, 'Yanina': {'Scored goals': 10, 'prevented goals': 2, 'assists': 5}, 'Andrés': {'Scored goals': 4, 'prevented goals': 0, 'assists': 1}, 'Ariadna': {'Scored goals': 0, 'prevented goals': 0, 'assists': 0}, 'Bautista': {'Scored goals': 5, 'prevented goals': 5, 'assists': 5}, 'CAROLINA': {'Scored goals': 14, 'prevented goals': 2, 'assists': 2}, 'CESAR': {'Scored goals': 0, 'prevented goals': 0, 'assists': 0}, 'David': {'Scored goals': 0, 'prevented goals': 0, 'assists': 0}, 'Diego': {'Scored goals': 7, 'prevented goals': 1, 'assists': 1}, 'Dolores': {'Scored goals': 2, 'prevented goals': 2, 'assists': 2}, 'DYLAN': {'Scored goals': 1, 'prevented goals': 0, 'assists': 1}, 'ELIANA': {'Scored goals': 1, 'prevented goals': 5, 'assists': 5}, 'Emanuel': {'Scored goals': 1, 'prevented goals': 5, 'assists': 5}, 'Fabián': {'Scored goals': 5, 'prevented goals': 0, 'assists': 0}, 'Noelia': {'Scored goals': 6, 'prevented goals': 1, 'assists': 1}, 'Francsica': {'Scored goals': 1, 'prevented goals': 0, 'assists': 0}, 'FEDERICO': {'Scored goals': 1, 'prevented goals': 2, 'assists': 2}, 'Fernanda': {'Scored goals': 2, 'prevented goals': 3, 'assists': 3}, 'GONZALO': {'Scored goals': 0, 'prevented goals': 0, 'assists': 1}, 'Nancy': {'Scored goals': 11, 'prevented goals': 0, 'assists': 0}}\n"
     ]
    }
   ],
   "source": [
    "players_general_stats=estructuras.inciso1(names_list,goals,goals_avoided,assists)\n",
    "print(players_general_stats)"
   ]
  }
 ],
 "metadata": {
  "kernelspec": {
   "display_name": "venv",
   "language": "python",
   "name": "python3"
  },
  "language_info": {
   "codemirror_mode": {
    "name": "ipython",
    "version": 3
   },
   "file_extension": ".py",
   "mimetype": "text/x-python",
   "name": "python",
   "nbconvert_exporter": "python",
   "pygments_lexer": "ipython3",
   "version": "3.11.7"
  }
 },
 "nbformat": 4,
 "nbformat_minor": 2
}
